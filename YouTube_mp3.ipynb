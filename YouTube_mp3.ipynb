{
 "cells": [
  {
   "cell_type": "markdown",
   "metadata": {},
   "source": [
    "### 유튜브에서 동영상과 음원파일 추출하기\n",
    "\n",
    "- Pytube 라이브러리에서 URL만 입력하면 동영상 추출\n",
    "- 동영상 파일은 mp4tomp3라이브러리를 활용해 mp3파일로 변환"
   ]
  },
  {
   "cell_type": "markdown",
   "metadata": {},
   "source": [
    "#### 추가 설명\n",
    "\n",
    "- 음원 추출 예시는 호주의 유명한 스피닝(실내사이클) 클래스 RPM Les Mills의 79번 트랙 활용 : https://www.lesmills.com/workouts/fitness-classes/rpm/tracklists/  \n",
    "\n",
    "- Pytube 라이브러리 : https://github.com/YoonHanho/pytube\n",
    "\n",
    "- mp4tomp3 라이브러리 : https://github.com/YoonHanho/mp4_to_mp3 "
   ]
  },
  {
   "cell_type": "code",
   "execution_count": 1,
   "metadata": {},
   "outputs": [],
   "source": [
    "import pandas as pd\n",
    "import numpy as np\n",
    "\n",
    "from pytube import YouTube"
   ]
  },
  {
   "cell_type": "code",
   "execution_count": null,
   "metadata": {},
   "outputs": [],
   "source": [
    "\"\"\" Song List \"\"\"\n",
    "#1 Where We Go - P!nk\n",
    "#2 Without You - Avicii feat. Sandro Cavazza\n",
    "#3 Hold On - Slushii\n",
    "#4 One Foot - WALK THE MOON\n",
    "#5 Run For Cover - The Killers\n",
    "#6 Silence (Illenium Remix) - Marshmello feat. Khalid\n",
    "#7 Pure Adrenaline - Lyrical Longshot\n",
    "#8 How Long - Charlie Puth\n",
    "#9 Forever - Sigma feat. Quavo & Sebastian Kole"
   ]
  },
  {
   "cell_type": "code",
   "execution_count": 2,
   "metadata": {},
   "outputs": [],
   "source": [
    "song_list = ['https://www.youtube.com/watch?v=SGbH4esb4Ck',\n",
    "             'https://www.youtube.com/watch?v=WRz2MxhAdJo',\n",
    "             'https://www.youtube.com/watch?v=xpesojbR1WU',\n",
    "             'https://www.youtube.com/watch?v=05v4nfUmBYI',\n",
    "             'https://www.youtube.com/watch?v=XO7JGfqPB0s',\n",
    "             'https://www.youtube.com/watch?v=avlEK3PTvw8',\n",
    "             'https://www.youtube.com/watch?v=0LZ0aZgUcpY',\n",
    "             'https://www.youtube.com/watch?v=CwfoyVa980U',\n",
    "             'https://www.youtube.com/watch?v=WJRDcsxqId8']"
   ]
  },
  {
   "cell_type": "markdown",
   "metadata": {},
   "source": [
    "유튜브에서 동영상 파일을 다운받자  \n",
    "파라미터를 조정하면, 음원포맷이나 품질을 별도로 지정할 수 있다. "
   ]
  },
  {
   "cell_type": "code",
   "execution_count": 3,
   "metadata": {},
   "outputs": [
    {
     "name": "stdout",
     "output_type": "stream",
     "text": [
      "CPU times: user 3.06 s, sys: 352 ms, total: 3.42 s\n",
      "Wall time: 48 s\n"
     ]
    }
   ],
   "source": [
    "%%time\n",
    "for url in song_list:\n",
    "    YouTube(url).streams.first().download()"
   ]
  },
  {
   "cell_type": "markdown",
   "metadata": {},
   "source": [
    "확인~! "
   ]
  },
  {
   "cell_type": "code",
   "execution_count": 4,
   "metadata": {},
   "outputs": [
    {
     "name": "stdout",
     "output_type": "stream",
     "text": [
      "total 91M\r\n",
      "drwxr-xr-x 3 root root 4.0K Feb  6 01:41 .\r\n",
      "drwxr-xr-x 5 root root 4.0K Feb  6 01:22 ..\r\n",
      "-rw-r--r-- 1 root root 3.8M Feb  6 01:41 Avicii - Without You ft Sandro Cavazza.mp4\r\n",
      "-rw-r--r-- 1 root root  10M Feb  6 01:41 Charlie Puth - How Long [Official Video].mp4\r\n",
      "drwxr-xr-x 2 root root 4.0K Feb  6 01:22 .ipynb_checkpoints\r\n",
      "-rw-r--r-- 1 root root 7.3M Feb  6 01:41 Marshmello ft Khalid - Silence (Illenium Remix).mp4\r\n",
      "-rw-r--r-- 1 root root 9.9M Feb  6 01:40 P!nk - Where We Go (Official Audio).mp4\r\n",
      "-rw-r--r-- 1 root root 668K Feb  6 01:40 RPM_track79.ipynb\r\n",
      "-rw-r--r-- 1 root root  13M Feb  6 01:41 Sigma - Forever feat Quavo & Sebastian Kole (Official Lyric Video).mp4\r\n",
      "-rw-r--r-- 1 root root 8.0M Feb  6 01:41 Slushii - Hold On.mp4\r\n",
      "-rw-r--r-- 1 root root 9.3M Feb  6 01:41 Stefan Engblom - Pure Adrenaline.mp4\r\n",
      "-rw-r--r-- 1 root root  12M Feb  6 01:41 The Killers - Run For Cover.mp4\r\n",
      "-rw-r--r-- 1 root root  18M Feb  6 01:41 WALK THE MOON - One Foot (Official Video).mp4\r\n"
     ]
    }
   ],
   "source": [
    "!ls -alh"
   ]
  },
  {
   "cell_type": "markdown",
   "metadata": {},
   "source": [
    "mp4 동영상 파일을 mp3로 바꿔보자  \n",
    "mp4tomp3.py파일로 변환한다"
   ]
  },
  {
   "cell_type": "code",
   "execution_count": null,
   "metadata": {},
   "outputs": [],
   "source": [
    "%%time\n",
    "!python /home/ncp/workspace/Brian/mp4_to_mp3/mp4tomp3.py   "
   ]
  },
  {
   "cell_type": "code",
   "execution_count": null,
   "metadata": {},
   "outputs": [],
   "source": [
    "### 결과 출력물 생략 ###"
   ]
  },
  {
   "cell_type": "markdown",
   "metadata": {},
   "source": [
    "마지막 확인!!!"
   ]
  },
  {
   "cell_type": "code",
   "execution_count": 3,
   "metadata": {},
   "outputs": [
    {
     "name": "stdout",
     "output_type": "stream",
     "text": [
      "-rw-r--r-- 1 root root 3.1M Feb  6 01:42 Avicii - Without You ft Sandro Cavazza.mp3\r\n",
      "-rw-r--r-- 1 root root 3.8M Feb  6 01:41 Avicii - Without You ft Sandro Cavazza.mp4\r\n",
      "-rw-r--r-- 1 root root 3.5M Feb  6 01:41 Charlie Puth - How Long [Official Video].mp3\r\n",
      "-rw-r--r-- 1 root root  10M Feb  6 01:41 Charlie Puth - How Long [Official Video].mp4\r\n",
      "-rw-r--r-- 1 root root 3.4M Feb  6 01:41 Marshmello ft Khalid - Silence (Illenium Remix).mp3\r\n",
      "-rw-r--r-- 1 root root 7.3M Feb  6 01:41 Marshmello ft Khalid - Silence (Illenium Remix).mp4\r\n",
      "-rw-r--r-- 1 root root 4.3M Feb  6 01:42 P!nk - Where We Go (Official Audio).mp3\r\n",
      "-rw-r--r-- 1 root root 9.9M Feb  6 01:40 P!nk - Where We Go (Official Audio).mp4\r\n",
      "-rw-r--r-- 1 root root 2.6M Feb  6 01:41 Sigma - Forever feat Quavo & Sebastian Kole (Official Lyric Video).mp3\r\n",
      "-rw-r--r-- 1 root root  13M Feb  6 01:41 Sigma - Forever feat Quavo & Sebastian Kole (Official Lyric Video).mp4\r\n",
      "-rw-r--r-- 1 root root 3.1M Feb  6 01:42 Slushii - Hold On.mp3\r\n",
      "-rw-r--r-- 1 root root 8.0M Feb  6 01:41 Slushii - Hold On.mp4\r\n",
      "-rw-r--r-- 1 root root 3.4M Feb  6 01:42 Stefan Engblom - Pure Adrenaline.mp3\r\n",
      "-rw-r--r-- 1 root root 9.3M Feb  6 01:41 Stefan Engblom - Pure Adrenaline.mp4\r\n",
      "-rw-r--r-- 1 root root 4.1M Feb  6 01:42 The Killers - Run For Cover.mp3\r\n",
      "-rw-r--r-- 1 root root  12M Feb  6 01:41 The Killers - Run For Cover.mp4\r\n",
      "-rw-r--r-- 1 root root 4.4M Feb  6 01:42 WALK THE MOON - One Foot (Official Video).mp3\r\n",
      "-rw-r--r-- 1 root root  18M Feb  6 01:41 WALK THE MOON - One Foot (Official Video).mp4\r\n"
     ]
    }
   ],
   "source": [
    "!ls -alh *.mp*"
   ]
  },
  {
   "cell_type": "markdown",
   "metadata": {},
   "source": [
    "--- \n",
    "#### 초간단 후기\n",
    "\n",
    "- 파이썬 코드 한두줄이면 유튜브에서 동영상과 음원을 빠르고 간편하게 추출할 수 있다.  \n",
    "\n",
    "- song list의 URL을 작성하는 번거로움이 있는데, 연관 추천 품질이 막강한 유튜브의 구조를 연구하면 song list 마저도 자동으로 만들 수 있을 것 같다. 다음 과제로~! \n",
    "\n",
    "---\n",
    "\n",
    "#### 코딩과는 무관합니다만은, 스피닝 클래스 곡 추천\n",
    "\n",
    "- WALK THE MOON - One Foot (Official Video).mp3 : 사이클의 기분 좋은 시작을 알리는 곡~! 천천히 속도를 붙여나가며 숲을 달리는 기분을 만끽할 수 있다. \n",
    "\n",
    "- The Killers - Run For Cover.mp3 : Run~! Run~! 최고의 스피드 구간을 위한 곡~! \n",
    "\n",
    "- Charlie Puth - How Long [Official Video].mp3 : 사이클 클래스의 마무리. 스트레칭 하면서 들으면 좋은 달달한 곡\n",
    "\n",
    "- Avicii - Without You ft Sandro Cavazza.mp3 : 79번 트랙에서 제일 좋아하는 멋진 일렉트로닉 곡. 시원한 경치를 상상하며 워밍업 하면서 사이클 타기 딱 좋은 곡. 28세로 운명을 달리한 Avicii를 기리며... "
   ]
  },
  {
   "cell_type": "code",
   "execution_count": null,
   "metadata": {},
   "outputs": [],
   "source": []
  }
 ],
 "metadata": {
  "kernelspec": {
   "display_name": "Python 3",
   "language": "python",
   "name": "python3"
  },
  "language_info": {
   "codemirror_mode": {
    "name": "ipython",
    "version": 3
   },
   "file_extension": ".py",
   "mimetype": "text/x-python",
   "name": "python",
   "nbconvert_exporter": "python",
   "pygments_lexer": "ipython3",
   "version": "3.6.8"
  }
 },
 "nbformat": 4,
 "nbformat_minor": 2
}
